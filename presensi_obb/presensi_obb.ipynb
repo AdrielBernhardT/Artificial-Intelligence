{
 "cells": [
  {
   "cell_type": "markdown",
   "id": "f60dcb32",
   "metadata": {},
   "source": [
    "***INSTALL REQUIREMENTS***"
   ]
  },
  {
   "cell_type": "code",
   "execution_count": null,
   "id": "d1dd48ce",
   "metadata": {},
   "outputs": [],
   "source": [
    "# %pip install ultralytics==8.2.103 -q\n",
    "# %pip install roboflow --quiet\n",
    "# %pip install supervision==0.24.0 -q\n",
    "# %pip install face_recognition opencv-python numpy\n",
    "# %pip install face_recognition\n",
    "# %pip install supervision"
   ]
  },
  {
   "cell_type": "markdown",
   "id": "34a78337",
   "metadata": {},
   "source": [
    "***IMPORT STATION***"
   ]
  },
  {
   "cell_type": "code",
   "execution_count": null,
   "id": "fa6954a3",
   "metadata": {},
   "outputs": [],
   "source": [
    "from ultralytics import YOLO\n",
    "from IPython.display import display, Image\n",
    "from IPython.display import clear_output\n",
    "from datetime import datetime\n",
    "from flask import Flask, render_template, Response\n",
    "import yaml\n",
    "import supervision as sv\n",
    "import ultralytics\n",
    "import cv2\n",
    "import sqlite3\n",
    "import os\n",
    "import atexit\n",
    "import numpy as np\n",
    "import face_recognition\n",
    "import time\n",
    "\n",
    "# Path model dan database\n",
    "MODEL_PATH = \"runs/obb/train3/weights/best.pt\"\n",
    "DB_PATH = \"presensi.db\"\n",
    "FACES_DIR = \"/home/abe-tanu/Documents/Code/Python/Artificial-Intelligence/faces\""
   ]
  },
  {
   "cell_type": "markdown",
   "id": "022fc90d",
   "metadata": {},
   "source": [
    "***TRAINING***"
   ]
  },
  {
   "cell_type": "code",
   "execution_count": null,
   "id": "eff20c9b",
   "metadata": {},
   "outputs": [],
   "source": [
    "!yolo settings sync=False\n",
    "\n",
    "ultralytics.checks()\n",
    "\n",
    "dataset = \"/home/abe-tanu/Documents/Code/Python/Artificial-Intelligence/OBB AI PPTI 21 Team 2.v2i.yolov8-obb/datasets\"\n",
    "\n",
    "# Download the dataset\n",
    "with open(f'{dataset}/data.yaml', 'r') as f:\n",
    "    data = yaml.safe_load(f)\n",
    "data['train'] = '../train/images'\n",
    "data['val'] = '../valid/images'\n",
    "data['test'] = '../test/images'\n",
    "if 'path' in data:\n",
    "  del data['path']\n",
    "with open(f'{dataset}/data.yaml', 'w') as f:\n",
    "    yaml.dump(data, f, sort_keys=False)\n",
    "\n",
    "# Train the model\n",
    "model = YOLO('yolov8n-obb.pt')\n",
    "results = model.train(data=f\"{dataset}/data.yaml\", epochs=10, imgsz=640)\n"
   ]
  },
  {
   "cell_type": "markdown",
   "id": "377d20af",
   "metadata": {},
   "source": [
    "***MODELING***"
   ]
  },
  {
   "cell_type": "markdown",
   "id": "132b499f",
   "metadata": {},
   "source": [
    "**Face Encoding**"
   ]
  },
  {
   "cell_type": "code",
   "execution_count": null,
   "id": "ea537309",
   "metadata": {},
   "outputs": [],
   "source": [
    "# Load wajah dari folder\n",
    "known_face_encodings = []\n",
    "known_face_names = []\n",
    "for filename in os.listdir(FACES_DIR):\n",
    "    if filename.endswith(\".jpg\") or filename.endswith(\".png\"):\n",
    "        path = os.path.join(FACES_DIR, filename)\n",
    "        image = face_recognition.load_image_file(path)\n",
    "        encodings = face_recognition.face_encodings(image)\n",
    "        if encodings:\n",
    "            known_face_encodings.append(encodings[0])\n",
    "            known_face_names.append(os.path.splitext(filename)[0])\n"
   ]
  },
  {
   "cell_type": "markdown",
   "id": "92bc5dcb",
   "metadata": {},
   "source": [
    "**Utility Function**"
   ]
  },
  {
   "cell_type": "code",
   "execution_count": null,
   "id": "230ff17e",
   "metadata": {},
   "outputs": [],
   "source": [
    "# Koneksi database\n",
    "conn = sqlite3.connect(DB_PATH, check_same_thread=False)\n",
    "c = conn.cursor()\n",
    "c.execute('''\n",
    "    CREATE TABLE IF NOT EXISTS presensi (\n",
    "        nama TEXT,\n",
    "        status TEXT,\n",
    "        waktu TEXT\n",
    "    )\n",
    "''')\n",
    "c.execute(\"DELETE FROM presensi\")\n",
    "conn.commit()\n",
    "\n",
    "def sudah_terdeteksi(nama):\n",
    "    c.execute(\"SELECT 1 FROM presensi WHERE nama=? AND status='Hadir'\", (nama,))\n",
    "    return c.fetchone() is not None\n",
    "\n",
    "def tandai_hadir(nama):\n",
    "    waktu = datetime.now().strftime(\"%Y-%m-%d %H:%M:%S\")\n",
    "    c.execute(\"INSERT INTO presensi (nama, status, waktu) VALUES (?, 'Hadir', ?)\", (nama, waktu))\n",
    "    conn.commit()\n",
    "\n",
    "def get_status_presensi(daftar_anak):\n",
    "    c.execute(\"SELECT nama, waktu FROM presensi WHERE status = 'Hadir'\")\n",
    "    hasil = c.fetchall()\n",
    "    nama_hadir = set(nama for nama, _ in hasil)\n",
    "    tidak_hadir = [nama for nama in daftar_anak if nama not in nama_hadir]\n",
    "    return hasil, tidak_hadir"
   ]
  },
  {
   "cell_type": "markdown",
   "id": "67aa7ca0",
   "metadata": {},
   "source": [
    "**Setup Yolo**"
   ]
  },
  {
   "cell_type": "code",
   "execution_count": null,
   "id": "22fc710c",
   "metadata": {},
   "outputs": [],
   "source": [
    "#  Daftar anak-anak\n",
    "daftar_anak = [\"Adriel Bernhard T\", \"Jonea Kristiawan\", \"Kevin Tanwiputra\", \"Kevin Jiovanni Kuslin\"]\n",
    "\n",
    "# Load YOLOv8-OBB\n",
    "model = YOLO(MODEL_PATH)"
   ]
  },
  {
   "cell_type": "markdown",
   "id": "b5d5487d",
   "metadata": {},
   "source": [
    "***Flask***"
   ]
  },
  {
   "cell_type": "markdown",
   "id": "8294e14e",
   "metadata": {},
   "source": [
    "**Streaming Flask**"
   ]
  },
  {
   "cell_type": "code",
   "execution_count": null,
   "id": "b013dc7d",
   "metadata": {},
   "outputs": [],
   "source": [
    "app = Flask(__name__)\n",
    "obb_annotator = sv.OrientedBoxAnnotator()\n",
    "\n",
    "def gen():\n",
    "    cap = cv2.VideoCapture(0)\n",
    "    if not cap.isOpened():\n",
    "        print(\"[ERROR] Kamera tidak bisa dibuka.\")\n",
    "        return\n",
    "\n",
    "    cap.set(cv2.CAP_PROP_FRAME_WIDTH, 640)\n",
    "    cap.set(cv2.CAP_PROP_FRAME_HEIGHT, 480)\n",
    "    frame_count = 0\n",
    "    results = None\n",
    "\n",
    "    while True:\n",
    "        try:\n",
    "            success, frame = cap.read()\n",
    "            if not success:\n",
    "                print(\"[ERROR] Gagal membaca frame dari kamera\")\n",
    "                break\n",
    "            else:\n",
    "                print(\"[DEBUG] Frame berhasil dibaca\")\n",
    "\n",
    "            frame_count += 1\n",
    "            annotated_frame = frame.copy()\n",
    "\n",
    "            # === Bagian YOLOv8-OBB ===\n",
    "            if frame_count % 3 == 0:\n",
    "                start = time.time()\n",
    "                results = model.predict(frame, conf=0.75)\n",
    "                print(f\"[INFO] YOLOv8 OBB took {time.time() - start:.2f}s\")\n",
    "\n",
    "            if results:\n",
    "                for r in results:\n",
    "                    print(\"[DEBUG] r.obb:\", r.obb)\n",
    "                    if r.obb is not None and hasattr(r.obb, \"xyxy\"):\n",
    "                        classes = r.obb.cls.cpu().numpy().astype(int)\n",
    "                        detections = sv.Detections(\n",
    "                            xyxy=r.obb.xyxy.cpu().numpy(),\n",
    "                            confidence=r.obb.conf.cpu().numpy(),\n",
    "                            class_id=classes\n",
    "                        )\n",
    "\n",
    "                        labels = [model.names[c] for c in classes]\n",
    "                        annotated_frame = obb_annotator.annotate(annotated_frame, detections)\n",
    "                        for box, label in zip(detections.xyxy, labels):\n",
    "                            x1, y1, x2, y2 = map(int, box)\n",
    "                            cv2.putText(annotated_frame, label, (x1, y1 - 10),\n",
    "                                        cv2.FONT_HERSHEY_SIMPLEX, 0.5, (255, 255, 255), 1)\n",
    "\n",
    "\n",
    "                        for cls in classes:\n",
    "                            nama_terdeteksi = model.names[cls]\n",
    "                            if nama_terdeteksi in daftar_anak and not sudah_terdeteksi(nama_terdeteksi):\n",
    "                                tandai_hadir(nama_terdeteksi)\n",
    "                                print(f\"[INFO] {nama_terdeteksi} TERDETEKSI (OBB)\")\n",
    "\n",
    "            # === Face Recognition ===\n",
    "            rgb_frame = annotated_frame[:, :, ::-1]\n",
    "            face_locations = face_recognition.face_locations(rgb_frame)\n",
    "\n",
    "            if not face_locations:\n",
    "                continue\n",
    "\n",
    "            face_encodings = face_recognition.face_encodings(rgb_frame, face_locations)\n",
    "\n",
    "            for (top, right, bottom, left), face_encoding in zip(face_locations, face_encodings):\n",
    "                matches = face_recognition.compare_faces(known_face_encodings, face_encoding)\n",
    "                face_distances = face_recognition.face_distance(known_face_encodings, face_encoding)\n",
    "                name = \"Unknown\"\n",
    "                best_match_index = np.argmin(face_distances)\n",
    "                if matches[best_match_index]:\n",
    "                    name = known_face_names[best_match_index]\n",
    "\n",
    "                if name in daftar_anak and not sudah_terdeteksi(name):\n",
    "                    tandai_hadir(name)\n",
    "                    print(f\"[INFO] {name} TERDETEKSI (Face)\")\n",
    "\n",
    "                cv2.rectangle(annotated_frame, (left, top), (right, bottom), (0, 255, 0), 2)\n",
    "                cv2.putText(annotated_frame, name, (left, top - 10),\n",
    "                            cv2.FONT_HERSHEY_SIMPLEX, 0.5, (255, 255, 255), 1)\n",
    "\n",
    "            # === Overlay presensi ===\n",
    "            cv2.rectangle(annotated_frame, (10, 10), (500, 10 + 30 + 25 * len(daftar_anak)), (0, 0, 0), -1)\n",
    "            cv2.putText(annotated_frame, \"Presensi Siswa\", (20, 35),\n",
    "                        cv2.FONT_HERSHEY_SIMPLEX, 0.7, (255, 255, 255), 2)\n",
    "\n",
    "            y_offset = 60\n",
    "            for nama in sorted(daftar_anak):\n",
    "                status = \"Hadir\" if sudah_terdeteksi(nama) else \"Belum Hadir\"\n",
    "                warna = (0, 255, 0) if status == \"Hadir\" else (0, 0, 255)\n",
    "                cv2.putText(annotated_frame, f\"{nama} - {status}\", (20, y_offset),\n",
    "                            cv2.FONT_HERSHEY_SIMPLEX, 0.55, warna, 2)\n",
    "                y_offset += 25\n",
    "\n",
    "            # === Streaming frame ===\n",
    "            _, buffer = cv2.imencode('.jpg', annotated_frame)\n",
    "            frame = buffer.tobytes()\n",
    "            yield (b'--frame\\r\\n'\n",
    "                b'Content-Type: image/jpeg\\r\\n\\r\\n' + frame + b'\\r\\n')\n",
    "\n",
    "        except Exception as e:\n",
    "            print(f\"[ERROR] Streaming error: {e}\")\n",
    "            continue\n",
    "\n",
    "# ===== ROUTES FLASK =====\n",
    "@app.route('/')\n",
    "def index():\n",
    "    return render_template(\"index.html\")\n",
    "\n",
    "@app.route('/video_feed')\n",
    "def video_feed():\n",
    "    return Response(gen(), mimetype='multipart/x-mixed-replace; boundary=frame')\n",
    "\n",
    "@app.route('/rekap')\n",
    "def rekap():\n",
    "    hadir, tidak_hadir = get_status_presensi(daftar_anak)\n",
    "    return render_template(\"rekap.html\", hadir=hadir, tidak_hadir=tidak_hadir)"
   ]
  },
  {
   "cell_type": "markdown",
   "id": "33b407a8",
   "metadata": {},
   "source": [
    "**Run Flask**"
   ]
  },
  {
   "cell_type": "code",
   "execution_count": null,
   "id": "6b11a4a6",
   "metadata": {},
   "outputs": [],
   "source": [
    "app.run(host='0.0.0.0', port=5000, debug=True, use_reloader=False)"
   ]
  }
 ],
 "metadata": {
  "kernelspec": {
   "display_name": "base",
   "language": "python",
   "name": "python3"
  },
  "language_info": {
   "codemirror_mode": {
    "name": "ipython",
    "version": 3
   },
   "file_extension": ".py",
   "mimetype": "text/x-python",
   "name": "python",
   "nbconvert_exporter": "python",
   "pygments_lexer": "ipython3",
   "version": "3.11.7"
  }
 },
 "nbformat": 4,
 "nbformat_minor": 5
}
