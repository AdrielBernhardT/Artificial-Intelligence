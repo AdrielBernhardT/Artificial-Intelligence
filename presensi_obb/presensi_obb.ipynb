{
 "cells": [
  {
   "cell_type": "markdown",
   "id": "f60dcb32",
   "metadata": {},
   "source": [
    "***INSTALL REQUIREMENTS***"
   ]
  },
  {
   "cell_type": "code",
   "execution_count": null,
   "id": "d1dd48ce",
   "metadata": {},
   "outputs": [],
   "source": [
    "# %pip install ultralytics==8.2.103 -q\n",
    "# %pip install roboflow --quiet\n",
    "# %pip install supervision==0.24.0 -q"
   ]
  },
  {
   "cell_type": "markdown",
   "id": "34a78337",
   "metadata": {},
   "source": [
    "***IMPORT STATION***"
   ]
  },
  {
   "cell_type": "code",
   "execution_count": 15,
   "id": "fa6954a3",
   "metadata": {},
   "outputs": [],
   "source": [
    "import ultralytics\n",
    "from ultralytics import YOLO\n",
    "from IPython.display import display, Image\n",
    "import yaml\n",
    "import supervision as sv\n",
    "import cv2\n",
    "from IPython.display import clear_output\n",
    "import sqlite3\n",
    "from datetime import datetime\n",
    "import os"
   ]
  },
  {
   "cell_type": "markdown",
   "id": "022fc90d",
   "metadata": {},
   "source": [
    "***TRAINING***"
   ]
  },
  {
   "cell_type": "code",
   "execution_count": null,
   "id": "eff20c9b",
   "metadata": {},
   "outputs": [],
   "source": [
    "!yolo settings sync=False\n",
    "\n",
    "ultralytics.checks()\n",
    "\n",
    "dataset = \"/home/abe-tanu/Documents/Code/Python/Artificial-Intelligence/OBB AI PPTI 21 Team 2.v2i.yolov8-obb/datasets\"\n",
    "\n",
    "# Download the dataset\n",
    "with open(f'{dataset}/data.yaml', 'r') as f:\n",
    "    data = yaml.safe_load(f)\n",
    "data['train'] = '../train/images'\n",
    "data['val'] = '../valid/images'\n",
    "data['test'] = '../test/images'\n",
    "if 'path' in data:\n",
    "  del data['path']\n",
    "with open(f'{dataset}/data.yaml', 'w') as f:\n",
    "    yaml.dump(data, f, sort_keys=False)\n",
    "\n",
    "# Train the model\n",
    "model = YOLO('yolov8n-obb.pt')\n",
    "results = model.train(data=f\"{dataset}/data.yaml\", epochs=100, imgsz=640)\n"
   ]
  },
  {
   "cell_type": "markdown",
   "id": "a816b63c",
   "metadata": {},
   "source": [
    "***DATABASE***"
   ]
  },
  {
   "cell_type": "code",
   "execution_count": 18,
   "id": "328ed86e",
   "metadata": {},
   "outputs": [],
   "source": [
    "conn = sqlite3.connect(\"presensi.db\")\n",
    "c = conn.cursor()\n",
    "c.execute('''\n",
    "    CREATE TABLE IF NOT EXISTS presensi (\n",
    "        nama TEXT,\n",
    "        status TEXT,\n",
    "        waktu TEXT\n",
    "    )\n",
    "''')\n",
    "conn.commit()"
   ]
  },
  {
   "cell_type": "markdown",
   "id": "377d20af",
   "metadata": {},
   "source": [
    "***MODELING***"
   ]
  },
  {
   "cell_type": "code",
   "execution_count": 3,
   "id": "aa84d305",
   "metadata": {},
   "outputs": [
    {
     "name": "stdout",
     "output_type": "stream",
     "text": [
      "[DEBUG] Frame disimpan di: /home/abe-tanu/Documents/Code/Python/Artificial-Intelligence/presensi_obb/frame_hasil.jpg\n"
     ]
    }
   ],
   "source": [
    "def sudah_terdeteksi(nama):\n",
    "    c.execute(\"SELECT 1 FROM presensi WHERE nama=? AND status='Hadir'\", (nama,))\n",
    "    return c.fetchone() is not None\n",
    "\n",
    "def tandai_hadir(nama):\n",
    "    waktu = datetime.now().strftime(\"%Y-%m-%d %H:%M:%S\")\n",
    "    c.execute(\"INSERT INTO presensi (nama, status, waktu) VALUES (?, 'Hadir', ?)\", (nama, waktu))\n",
    "    conn.commit()\n",
    "\n",
    "# Load model YOLOv8-OBB\n",
    "model = YOLO(\"/home/abe-tanu/Documents/Code/Python/Artificial-Intelligence/presensi_obb/runs/obb/train/weights/best.pt\")\n",
    "\n",
    "# Daftar anak-anak\n",
    "daftar_anak = [\"Adriel Bernhard T\", \"Jonea Kristiawan\", \"Kevin Tanwiputra\", \"Kevin Jiovanni Kuslin\"]\n",
    "\n",
    "# Buka webcam\n",
    "cap = cv2.VideoCapture(0)\n",
    "if not cap.isOpened():\n",
    "    print(\"Tidak dapat membuka webcam\")\n",
    "    exit()\n",
    "\n",
    "while True:\n",
    "    ret, frame = cap.read()\n",
    "    if not ret:\n",
    "        print(\"Gagal membaca frame\")\n",
    "        break\n",
    "\n",
    "    # Jalankan prediksi\n",
    "    results = model.predict(source=frame, conf=0.5, stream=True)\n",
    "\n",
    "    for r in results:\n",
    "        # # Jalan\n",
    "        # print(\"[DEBUG] Memproses hasil deteksi...\") \n",
    "\n",
    "        # print(\"[DEBUG] r.obb:\", r.obb)\n",
    "\n",
    "        if r.obb is not None and hasattr(r.obb, \"xywhr\"):\n",
    "            num_boxes = len(r.obb)\n",
    "            print(f\"[DEBUG] Total box terdeteksi: {num_boxes}\")\n",
    "\n",
    "            cls_list = r.obb.cls.cpu().numpy().astype(int)  # kelas\n",
    "            conf_list = r.obb.conf.cpu().numpy()  # confidence\n",
    "            names = model.names\n",
    "\n",
    "            for i, cls in enumerate(cls_list):\n",
    "                nama_terdeteksi = names[cls] if cls in names else f\"Unknown-{cls}\"\n",
    "                # print(f\"[DEBUG] Deteksi kelas {cls} → '{nama_terdeteksi}' (conf={conf_list[i]:.2f})\")\n",
    "\n",
    "                if nama_terdeteksi in daftar_anak:\n",
    "                    if not sudah_terdeteksi(nama_terdeteksi):\n",
    "                        tandai_hadir(nama_terdeteksi)\n",
    "                        print(f\"[INFO] {nama_terdeteksi} TERDETEKSI - disimpan ke database\")\n",
    "                    else:\n",
    "                        print(f\"[INFO] {nama_terdeteksi} sudah tercatat sebelumnya.\")\n",
    "                else:\n",
    "                    print(f\"[WARNING] '{nama_terdeteksi}' tidak ada di daftar_anak.\")\n",
    "        else:\n",
    "            print(\"[DEBUG] Tidak ada box terdeteksi di frame ini.\")\n",
    "\n",
    "\n",
    "        # Tampil plotingan di frame\n",
    "        annotated_frame = r.plot()\n",
    "\n",
    "        # Tabel presensi (Yang item di dalem plot)\n",
    "        cv2.rectangle(annotated_frame, (10, 10), (500, 10 + 30 + 25 * len(daftar_anak)), (0, 0, 0), -1)\n",
    "        cv2.putText(annotated_frame, \"Presensi Siswa\", (20, 35), cv2.FONT_HERSHEY_SIMPLEX, 0.7, (255, 255, 255), 2)\n",
    "\n",
    "        y_offset = 60\n",
    "        for nama in sorted(daftar_anak):\n",
    "            status = \"Hadir\" if sudah_terdeteksi(nama) else \"Belum Hadir\"\n",
    "\n",
    "            warna = (0, 255, 0) if status == \"Hadir\" else (0, 0, 255)\n",
    "            cv2.putText(annotated_frame, f\"{nama} - {status}\", (20, y_offset),\n",
    "                        cv2.FONT_HERSHEY_SIMPLEX, 0.55, warna, 2)\n",
    "            y_offset += 25\n",
    "\n",
    "        # Tampilkan dan simpan frame\n",
    "        cv2.imshow(\"YOLOv8 Kehadiran\", annotated_frame)\n",
    "        output_path = \"/home/abe-tanu/Documents/Code/Python/Artificial-Intelligence/presensi_obb/frame_hasil.jpg\"\n",
    "        cv2.imwrite(output_path, annotated_frame)\n",
    "        print(f\"[DEBUG] Frame disimpan di: {output_path}\")\n",
    "\n",
    "    # Tekan 'q' untuk keluar\n",
    "    if cv2.waitKey(1) & 0xFF == ord('q'):\n",
    "        break\n",
    "\n",
    "# Print akhir\n",
    "print(\"\\n--- Rekap Kehadiran ---\")\n",
    "print(\"Hadir:\")\n",
    "for nama in sorted(daftar_anak):\n",
    "    if sudah_terdeteksi(nama):\n",
    "        print(nama)\n",
    "\n",
    "print(\"Tidak Hadir:\")\n",
    "for nama in sorted(daftar_anak):\n",
    "    if not sudah_terdeteksi(nama):\n",
    "        print(nama)\n",
    "\n",
    "\n",
    "# Simpan ke file\n",
    "with open(\"/home/abe-tanu/Documents/Code/Python/Artificial-Intelligence/presensi_obb/hasil_hadir.txt\", \"w\") as f:\n",
    "    f.write(\"Hadir:\\n\")\n",
    "    for nama in sorted(daftar_anak):\n",
    "        if sudah_terdeteksi(nama):\n",
    "            f.write(f\"{nama}\\n\")\n",
    "\n",
    "with open(\"/home/abe-tanu/Documents/Code/Python/Artificial-Intelligence/presensi_obb/hasil_tidak_hadir.txt\", \"w\") as f:\n",
    "    f.write(\"Tidak Hadir:\\n\")\n",
    "    for nama in sorted(daftar_anak):\n",
    "        if not sudah_terdeteksi(nama):\n",
    "            f.write(f\"{nama}\\n\")\n",
    "\n",
    "# Tutup\n",
    "cap.release()\n",
    "cv2.destroyAllWindows()\n",
    "clear_output(wait=True)\n",
    "print(f\"[DEBUG] Frame disimpan di: {output_path}\")\n",
    "conn.close()"
   ]
  },
  {
   "cell_type": "markdown",
   "id": "742693b7",
   "metadata": {},
   "source": [
    "***SQLite Table***"
   ]
  },
  {
   "cell_type": "code",
   "execution_count": 17,
   "id": "1b1be80f",
   "metadata": {},
   "outputs": [
    {
     "name": "stdout",
     "output_type": "stream",
     "text": [
      "Yang HADIR:\n",
      "- Adriel Bernhard T (pukul -> 2025-07-13 10:46:51)\n",
      "\n",
      "Yang TIDAK HADIR:\n",
      "- Jonea Kristiawan\n",
      "- Kevin Jiovanni Kuslin\n",
      "- Kevin Tanwiputra\n"
     ]
    }
   ],
   "source": [
    "# 1. Daftar anak-anak\n",
    "daftar_anak = [\"Adriel Bernhard T\", \"Jonea Kristiawan\", \"Kevin Tanwiputra\", \"Kevin Jiovanni Kuslin\"]\n",
    "\n",
    "# 2. Koneksi ke database\n",
    "conn = sqlite3.connect(\"presensi.db\")\n",
    "c = conn.cursor()\n",
    "\n",
    "# 3. Ambil nama dan waktu dari yang sudah hadir\n",
    "c.execute(\"SELECT nama, waktu FROM presensi WHERE status = 'Hadir'\")\n",
    "hasil = c.fetchall()\n",
    "nama_hadir = set(nama for nama, _ in hasil)  # untuk keperluan tidak_hadir\n",
    "\n",
    "# 4. Cek siapa yang tidak hadir\n",
    "tidak_hadir = [nama for nama in daftar_anak if nama not in nama_hadir]\n",
    "\n",
    "# 5. Tampilkan\n",
    "print(\"Yang HADIR:\")\n",
    "for nama, waktu in sorted(hasil):  # sorted by nama (bisa juga pakai sorted by waktu kalau mau)\n",
    "    print(f\"- {nama} (pukul -> {waktu})\")\n",
    "\n",
    "print(\"\\nYang TIDAK HADIR:\")\n",
    "for nama in sorted(tidak_hadir):\n",
    "    print(f\"- {nama}\")\n",
    "\n",
    "# 6. Tutup koneksi\n",
    "conn.close()"
   ]
  },
  {
   "cell_type": "markdown",
   "id": "bfeb6acf",
   "metadata": {},
   "source": [
    "***FLASK***"
   ]
  },
  {
   "cell_type": "code",
   "execution_count": null,
   "id": "cdd97bc9",
   "metadata": {},
   "outputs": [],
   "source": []
  }
 ],
 "metadata": {
  "kernelspec": {
   "display_name": "base",
   "language": "python",
   "name": "python3"
  },
  "language_info": {
   "codemirror_mode": {
    "name": "ipython",
    "version": 3
   },
   "file_extension": ".py",
   "mimetype": "text/x-python",
   "name": "python",
   "nbconvert_exporter": "python",
   "pygments_lexer": "ipython3",
   "version": "3.11.7"
  }
 },
 "nbformat": 4,
 "nbformat_minor": 5
}
